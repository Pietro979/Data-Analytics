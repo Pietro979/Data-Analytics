{
 "cells": [
  {
   "cell_type": "code",
   "execution_count": 170,
   "metadata": {},
   "outputs": [],
   "source": [
    "import scipy\n",
    "import numpy as np\n",
    "import pandas as pd\n",
    "import seaborn as sns\n",
    "import matplotlib.pyplot as plt"
   ]
  },
  {
   "cell_type": "code",
   "execution_count": 171,
   "metadata": {},
   "outputs": [],
   "source": [
    "#Exercise 1\n",
    "Dictionary_norm = {\n",
    "    \"Default\":np.random.normal(size = 10000),\n",
    "    \"Mean_2_Width_2\":np.random.normal(loc=2.,scale=2.,size=10000),\n",
    "    \"Mean_3_Width_4\":np.random.normal(loc=3.,scale=4.,size=10000),\n",
    "    \"Mean_4_Width_6\":np.random.normal(loc=4.,scale=6.,size=10000),\n",
    "    \"Mean_5_Width_8\":np.random.normal(loc=5.,scale=8.,size=10000),\n",
    "}"
   ]
  },
  {
   "cell_type": "code",
   "execution_count": 172,
   "metadata": {},
   "outputs": [
    {
     "data": {
      "text/html": [
       "<div>\n",
       "<style scoped>\n",
       "    .dataframe tbody tr th:only-of-type {\n",
       "        vertical-align: middle;\n",
       "    }\n",
       "\n",
       "    .dataframe tbody tr th {\n",
       "        vertical-align: top;\n",
       "    }\n",
       "\n",
       "    .dataframe thead th {\n",
       "        text-align: right;\n",
       "    }\n",
       "</style>\n",
       "<table border=\"1\" class=\"dataframe\">\n",
       "  <thead>\n",
       "    <tr style=\"text-align: right;\">\n",
       "      <th></th>\n",
       "      <th>Default</th>\n",
       "      <th>Mean_2_Width_2</th>\n",
       "      <th>Mean_3_Width_4</th>\n",
       "      <th>Mean_4_Width_6</th>\n",
       "      <th>Mean_5_Width_8</th>\n",
       "    </tr>\n",
       "  </thead>\n",
       "  <tbody>\n",
       "    <tr>\n",
       "      <td>0</td>\n",
       "      <td>1.452507</td>\n",
       "      <td>3.702258</td>\n",
       "      <td>-0.896187</td>\n",
       "      <td>-8.939756</td>\n",
       "      <td>18.891225</td>\n",
       "    </tr>\n",
       "    <tr>\n",
       "      <td>1</td>\n",
       "      <td>1.351211</td>\n",
       "      <td>0.370924</td>\n",
       "      <td>0.518804</td>\n",
       "      <td>12.784339</td>\n",
       "      <td>-0.324982</td>\n",
       "    </tr>\n",
       "    <tr>\n",
       "      <td>2</td>\n",
       "      <td>0.866394</td>\n",
       "      <td>0.728224</td>\n",
       "      <td>4.342987</td>\n",
       "      <td>3.994111</td>\n",
       "      <td>13.689052</td>\n",
       "    </tr>\n",
       "    <tr>\n",
       "      <td>3</td>\n",
       "      <td>-1.328713</td>\n",
       "      <td>-2.323536</td>\n",
       "      <td>-0.359441</td>\n",
       "      <td>12.084916</td>\n",
       "      <td>16.744246</td>\n",
       "    </tr>\n",
       "    <tr>\n",
       "      <td>4</td>\n",
       "      <td>-0.226570</td>\n",
       "      <td>4.613164</td>\n",
       "      <td>4.661055</td>\n",
       "      <td>3.695591</td>\n",
       "      <td>13.649659</td>\n",
       "    </tr>\n",
       "  </tbody>\n",
       "</table>\n",
       "</div>"
      ],
      "text/plain": [
       "    Default  Mean_2_Width_2  Mean_3_Width_4  Mean_4_Width_6  Mean_5_Width_8\n",
       "0  1.452507        3.702258       -0.896187       -8.939756       18.891225\n",
       "1  1.351211        0.370924        0.518804       12.784339       -0.324982\n",
       "2  0.866394        0.728224        4.342987        3.994111       13.689052\n",
       "3 -1.328713       -2.323536       -0.359441       12.084916       16.744246\n",
       "4 -0.226570        4.613164        4.661055        3.695591       13.649659"
      ]
     },
     "execution_count": 172,
     "metadata": {},
     "output_type": "execute_result"
    }
   ],
   "source": [
    "Dataframe = pd.DataFrame.from_dict(Dictionary_norm)\n",
    "Dataframe.head()"
   ]
  },
  {
   "cell_type": "code",
   "execution_count": 173,
   "metadata": {},
   "outputs": [
    {
     "data": {
      "text/html": [
       "<div>\n",
       "<style scoped>\n",
       "    .dataframe tbody tr th:only-of-type {\n",
       "        vertical-align: middle;\n",
       "    }\n",
       "\n",
       "    .dataframe tbody tr th {\n",
       "        vertical-align: top;\n",
       "    }\n",
       "\n",
       "    .dataframe thead th {\n",
       "        text-align: right;\n",
       "    }\n",
       "</style>\n",
       "<table border=\"1\" class=\"dataframe\">\n",
       "  <thead>\n",
       "    <tr style=\"text-align: right;\">\n",
       "      <th></th>\n",
       "      <th>variable</th>\n",
       "      <th>value</th>\n",
       "    </tr>\n",
       "  </thead>\n",
       "  <tbody>\n",
       "    <tr>\n",
       "      <td>0</td>\n",
       "      <td>Default</td>\n",
       "      <td>1.452507</td>\n",
       "    </tr>\n",
       "    <tr>\n",
       "      <td>1</td>\n",
       "      <td>Default</td>\n",
       "      <td>1.351211</td>\n",
       "    </tr>\n",
       "    <tr>\n",
       "      <td>2</td>\n",
       "      <td>Default</td>\n",
       "      <td>0.866394</td>\n",
       "    </tr>\n",
       "    <tr>\n",
       "      <td>3</td>\n",
       "      <td>Default</td>\n",
       "      <td>-1.328713</td>\n",
       "    </tr>\n",
       "    <tr>\n",
       "      <td>4</td>\n",
       "      <td>Default</td>\n",
       "      <td>-0.226570</td>\n",
       "    </tr>\n",
       "  </tbody>\n",
       "</table>\n",
       "</div>"
      ],
      "text/plain": [
       "  variable     value\n",
       "0  Default  1.452507\n",
       "1  Default  1.351211\n",
       "2  Default  0.866394\n",
       "3  Default -1.328713\n",
       "4  Default -0.226570"
      ]
     },
     "execution_count": 173,
     "metadata": {},
     "output_type": "execute_result"
    }
   ],
   "source": [
    "dtMelt = Dataframe.melt()\n",
    "dtMelt.head()"
   ]
  },
  {
   "cell_type": "code",
   "execution_count": 174,
   "metadata": {
    "scrolled": true
   },
   "outputs": [
    {
     "data": {
      "image/png": "[encoded data removed]",
      "text/plain": [
       "<Figure size 1080x216 with 5 Axes>"
      ]
     },
     "metadata": {
      "needs_background": "light"
     },
     "output_type": "display_data"
    }
   ],
   "source": [
    "g = sns.FacetGrid(dtMelt,col = \"variable\", sharex=True)\n",
    "g = g.map(plt.hist,\"value\",bins=1000, cumulative = False)"
   ]
  },
  {
   "cell_type": "code",
   "execution_count": 175,
   "metadata": {},
   "outputs": [
    {
     "data": {
      "image/png": "[encoded data removed]",
      "text/plain": [
       "<Figure size 1080x216 with 5 Axes>"
      ]
     },
     "metadata": {
      "needs_background": "light"
     },
     "output_type": "display_data"
    }
   ],
   "source": [
    "g = sns.FacetGrid(dtMelt,col = \"variable\", sharex=True)\n",
    "g = g.map(plt.hist,\"value\",bins=1000, cumulative = True)"
   ]
  },
  {
   "cell_type": "code",
   "execution_count": 176,
   "metadata": {},
   "outputs": [
    {
     "data": {
      "image/png": "[encoded data removed]",
      "text/plain": [
       "<Figure size 1080x216 with 5 Axes>"
      ]
     },
     "metadata": {
      "needs_background": "light"
     },
     "output_type": "display_data"
    }
   ],
   "source": [
    "g = sns.FacetGrid(dtMelt,col = \"variable\", sharex=True)\n",
    "g = g.map(plt.hist,\"value\",bins=100, cumulative = False)"
   ]
  },
  {
   "cell_type": "code",
   "execution_count": 177,
   "metadata": {},
   "outputs": [
    {
     "data": {
      "image/png": "[encoded data removed]",
      "text/plain": [
       "<Figure size 1080x216 with 5 Axes>"
      ]
     },
     "metadata": {
      "needs_background": "light"
     },
     "output_type": "display_data"
    }
   ],
   "source": [
    "g = sns.FacetGrid(dtMelt,col = \"variable\", sharex=True)\n",
    "g = g.map(plt.hist,\"value\",bins=100, cumulative = True)"
   ]
  },
  {
   "cell_type": "code",
   "execution_count": 178,
   "metadata": {},
   "outputs": [
    {
     "data": {
      "image/png": "[encoded data removed]",
      "text/plain": [
       "<Figure size 1080x216 with 5 Axes>"
      ]
     },
     "metadata": {
      "needs_background": "light"
     },
     "output_type": "display_data"
    }
   ],
   "source": [
    "g= sns.FacetGrid(dtMelt,col = \"variable\", sharex=True)\n",
    "g= g.map(plt.hist,\"value\",bins=10, cumulative = False)"
   ]
  },
  {
   "cell_type": "code",
   "execution_count": 179,
   "metadata": {},
   "outputs": [
    {
     "data": {
      "image/png": "[encoded data removed]",
      "text/plain": [
       "<Figure size 1080x216 with 5 Axes>"
      ]
     },
     "metadata": {
      "needs_background": "light"
     },
     "output_type": "display_data"
    }
   ],
   "source": [
    "g= sns.FacetGrid(dtMelt,col = \"variable\", sharex=True)\n",
    "g= g.map(plt.hist,\"value\",bins=10, cumulative = True)"
   ]
  },
  {
   "cell_type": "code",
   "execution_count": null,
   "metadata": {},
   "outputs": [],
   "source": [
    "#Summary - normal distribution\n",
    "#Changing mean value causes move of distribution. The bigger this value is the more this distribution goes to right\n",
    "#Changing variance value effects the width of distribution. The bigger this value is the wider distribution is.\n",
    "#It is important to find the best number of bins. For sure, using more bins makes the figure more detailed, however augments the number of calculations. In case above, 100 bins are the most optimal"
   ]
  },
  {
   "cell_type": "code",
   "execution_count": 180,
   "metadata": {},
   "outputs": [],
   "source": [
    "#Exercise 2\n",
    "from scipy.special import logit, expit\n",
    "logitData = logit(Dataframe)\n",
    "MtlogitData = logitData.melt()"
   ]
  },
  {
   "cell_type": "code",
   "execution_count": 181,
   "metadata": {},
   "outputs": [
    {
     "data": {
      "text/html": [
       "<div>\n",
       "<style scoped>\n",
       "    .dataframe tbody tr th:only-of-type {\n",
       "        vertical-align: middle;\n",
       "    }\n",
       "\n",
       "    .dataframe tbody tr th {\n",
       "        vertical-align: top;\n",
       "    }\n",
       "\n",
       "    .dataframe thead th {\n",
       "        text-align: right;\n",
       "    }\n",
       "</style>\n",
       "<table border=\"1\" class=\"dataframe\">\n",
       "  <thead>\n",
       "    <tr style=\"text-align: right;\">\n",
       "      <th></th>\n",
       "      <th>variable</th>\n",
       "      <th>value</th>\n",
       "    </tr>\n",
       "  </thead>\n",
       "  <tbody>\n",
       "    <tr>\n",
       "      <td>0</td>\n",
       "      <td>Default</td>\n",
       "      <td>NaN</td>\n",
       "    </tr>\n",
       "    <tr>\n",
       "      <td>1</td>\n",
       "      <td>Default</td>\n",
       "      <td>NaN</td>\n",
       "    </tr>\n",
       "    <tr>\n",
       "      <td>2</td>\n",
       "      <td>Default</td>\n",
       "      <td>1.869442</td>\n",
       "    </tr>\n",
       "    <tr>\n",
       "      <td>3</td>\n",
       "      <td>Default</td>\n",
       "      <td>NaN</td>\n",
       "    </tr>\n",
       "    <tr>\n",
       "      <td>4</td>\n",
       "      <td>Default</td>\n",
       "      <td>NaN</td>\n",
       "    </tr>\n",
       "  </tbody>\n",
       "</table>\n",
       "</div>"
      ],
      "text/plain": [
       "  variable     value\n",
       "0  Default       NaN\n",
       "1  Default       NaN\n",
       "2  Default  1.869442\n",
       "3  Default       NaN\n",
       "4  Default       NaN"
      ]
     },
     "execution_count": 181,
     "metadata": {},
     "output_type": "execute_result"
    }
   ],
   "source": [
    "MtlogitData.head()"
   ]
  },
  {
   "cell_type": "code",
   "execution_count": 182,
   "metadata": {},
   "outputs": [
    {
     "data": {
      "image/png": "[encoded data removed]",
      "text/plain": [
       "<Figure size 1080x216 with 5 Axes>"
      ]
     },
     "metadata": {
      "needs_background": "light"
     },
     "output_type": "display_data"
    }
   ],
   "source": [
    "g= sns.FacetGrid(MtlogitData,col = \"variable\", sharex=True)\n",
    "g= g.map(plt.hist,\"value\",bins=100, cumulative = False)"
   ]
  },
  {
   "cell_type": "code",
   "execution_count": 183,
   "metadata": {},
   "outputs": [
    {
     "data": {
      "image/png": "[encoded data removed]",
      "text/plain": [
       "<Figure size 1080x216 with 5 Axes>"
      ]
     },
     "metadata": {
      "needs_background": "light"
     },
     "output_type": "display_data"
    }
   ],
   "source": [
    "g= sns.FacetGrid(MtlogitData,col = \"variable\", sharex=True)\n",
    "g= g.map(plt.hist,\"value\",bins=100, cumulative = True)"
   ]
  },
  {
   "cell_type": "code",
   "execution_count": null,
   "metadata": {},
   "outputs": [],
   "source": [
    "#Summary - inverse logit\n",
    "#Inverse logit makes non-informative normal much more informative (figure on the left)\n",
    "#On the other hand, histograms which were informative before transformations stopped to be so after it(figure on the right)\n",
    "#Mean value does not seem to affect the position of histograms"
   ]
  },
  {
   "cell_type": "code",
   "execution_count": 184,
   "metadata": {},
   "outputs": [],
   "source": [
    "#Exercise 3\n",
    "Dictionary_poisson = {\n",
    "    \"lam_1_size_10000\": np.random.poisson(1,10000),\n",
    "    \"lam_10_size_10000\": np.random.poisson(10,10000),\n",
    "    \"lam_20_size_10000\": np.random.poisson(20,10000),\n",
    "    \"lam_40_size_10000\": np.random.poisson(40,10000),\n",
    "    \"lam_80_size_10000\": np.random.poisson(80,10000),\n",
    "    \n",
    "}"
   ]
  },
  {
   "cell_type": "code",
   "execution_count": 185,
   "metadata": {},
   "outputs": [
    {
     "data": {
      "text/html": [
       "<div>\n",
       "<style scoped>\n",
       "    .dataframe tbody tr th:only-of-type {\n",
       "        vertical-align: middle;\n",
       "    }\n",
       "\n",
       "    .dataframe tbody tr th {\n",
       "        vertical-align: top;\n",
       "    }\n",
       "\n",
       "    .dataframe thead th {\n",
       "        text-align: right;\n",
       "    }\n",
       "</style>\n",
       "<table border=\"1\" class=\"dataframe\">\n",
       "  <thead>\n",
       "    <tr style=\"text-align: right;\">\n",
       "      <th></th>\n",
       "      <th>lam_1_size_10000</th>\n",
       "      <th>lam_10_size_10000</th>\n",
       "      <th>lam_20_size_10000</th>\n",
       "      <th>lam_40_size_10000</th>\n",
       "      <th>lam_80_size_10000</th>\n",
       "    </tr>\n",
       "  </thead>\n",
       "  <tbody>\n",
       "    <tr>\n",
       "      <td>0</td>\n",
       "      <td>1</td>\n",
       "      <td>6</td>\n",
       "      <td>28</td>\n",
       "      <td>36</td>\n",
       "      <td>91</td>\n",
       "    </tr>\n",
       "    <tr>\n",
       "      <td>1</td>\n",
       "      <td>0</td>\n",
       "      <td>6</td>\n",
       "      <td>22</td>\n",
       "      <td>44</td>\n",
       "      <td>81</td>\n",
       "    </tr>\n",
       "    <tr>\n",
       "      <td>2</td>\n",
       "      <td>0</td>\n",
       "      <td>9</td>\n",
       "      <td>18</td>\n",
       "      <td>51</td>\n",
       "      <td>85</td>\n",
       "    </tr>\n",
       "    <tr>\n",
       "      <td>3</td>\n",
       "      <td>0</td>\n",
       "      <td>9</td>\n",
       "      <td>20</td>\n",
       "      <td>38</td>\n",
       "      <td>84</td>\n",
       "    </tr>\n",
       "    <tr>\n",
       "      <td>4</td>\n",
       "      <td>0</td>\n",
       "      <td>12</td>\n",
       "      <td>19</td>\n",
       "      <td>41</td>\n",
       "      <td>74</td>\n",
       "    </tr>\n",
       "  </tbody>\n",
       "</table>\n",
       "</div>"
      ],
      "text/plain": [
       "   lam_1_size_10000  lam_10_size_10000  lam_20_size_10000  lam_40_size_10000  \\\n",
       "0                 1                  6                 28                 36   \n",
       "1                 0                  6                 22                 44   \n",
       "2                 0                  9                 18                 51   \n",
       "3                 0                  9                 20                 38   \n",
       "4                 0                 12                 19                 41   \n",
       "\n",
       "   lam_80_size_10000  \n",
       "0                 91  \n",
       "1                 81  \n",
       "2                 85  \n",
       "3                 84  \n",
       "4                 74  "
      ]
     },
     "execution_count": 185,
     "metadata": {},
     "output_type": "execute_result"
    }
   ],
   "source": [
    "Dataframe = pd.DataFrame.from_dict(Dictionary_poisson)\n",
    "Dataframe.head()"
   ]
  },
  {
   "cell_type": "code",
   "execution_count": 186,
   "metadata": {},
   "outputs": [],
   "source": [
    "MtDataframe = Dataframe.melt()"
   ]
  },
  {
   "cell_type": "code",
   "execution_count": 187,
   "metadata": {},
   "outputs": [
    {
     "data": {
      "text/html": [
       "<div>\n",
       "<style scoped>\n",
       "    .dataframe tbody tr th:only-of-type {\n",
       "        vertical-align: middle;\n",
       "    }\n",
       "\n",
       "    .dataframe tbody tr th {\n",
       "        vertical-align: top;\n",
       "    }\n",
       "\n",
       "    .dataframe thead th {\n",
       "        text-align: right;\n",
       "    }\n",
       "</style>\n",
       "<table border=\"1\" class=\"dataframe\">\n",
       "  <thead>\n",
       "    <tr style=\"text-align: right;\">\n",
       "      <th></th>\n",
       "      <th>variable</th>\n",
       "      <th>value</th>\n",
       "    </tr>\n",
       "  </thead>\n",
       "  <tbody>\n",
       "    <tr>\n",
       "      <td>0</td>\n",
       "      <td>lam_1_size_10000</td>\n",
       "      <td>1</td>\n",
       "    </tr>\n",
       "    <tr>\n",
       "      <td>1</td>\n",
       "      <td>lam_1_size_10000</td>\n",
       "      <td>0</td>\n",
       "    </tr>\n",
       "    <tr>\n",
       "      <td>2</td>\n",
       "      <td>lam_1_size_10000</td>\n",
       "      <td>0</td>\n",
       "    </tr>\n",
       "    <tr>\n",
       "      <td>3</td>\n",
       "      <td>lam_1_size_10000</td>\n",
       "      <td>0</td>\n",
       "    </tr>\n",
       "    <tr>\n",
       "      <td>4</td>\n",
       "      <td>lam_1_size_10000</td>\n",
       "      <td>0</td>\n",
       "    </tr>\n",
       "  </tbody>\n",
       "</table>\n",
       "</div>"
      ],
      "text/plain": [
       "           variable  value\n",
       "0  lam_1_size_10000      1\n",
       "1  lam_1_size_10000      0\n",
       "2  lam_1_size_10000      0\n",
       "3  lam_1_size_10000      0\n",
       "4  lam_1_size_10000      0"
      ]
     },
     "execution_count": 187,
     "metadata": {},
     "output_type": "execute_result"
    }
   ],
   "source": [
    "MtDataframe.head()"
   ]
  },
  {
   "cell_type": "code",
   "execution_count": 188,
   "metadata": {},
   "outputs": [
    {
     "data": {
      "image/png": "[encoded data removed]",
      "text/plain": [
       "<Figure size 1080x216 with 5 Axes>"
      ]
     },
     "metadata": {
      "needs_background": "light"
     },
     "output_type": "display_data"
    }
   ],
   "source": [
    "g = sns.FacetGrid(MtDataframe,col = \"variable\", sharex=True)\n",
    "g = g.map(plt.hist,\"value\", cumulative = False, bins=40)"
   ]
  },
  {
   "cell_type": "code",
   "execution_count": 189,
   "metadata": {},
   "outputs": [
    {
     "data": {
      "image/png": "[encoded data removed]",
      "text/plain": [
       "<Figure size 1080x216 with 5 Axes>"
      ]
     },
     "metadata": {
      "needs_background": "light"
     },
     "output_type": "display_data"
    }
   ],
   "source": [
    "g = sns.FacetGrid(MtDataframe,col = \"variable\", sharex=True)\n",
    "g = g.map(plt.hist,\"value\", cumulative = True, bins=40)"
   ]
  },
  {
   "cell_type": "code",
   "execution_count": null,
   "metadata": {},
   "outputs": [],
   "source": [
    "#Summary - poisson distribution\n",
    "#In poisson distribution mean value is equal to variance.\n",
    "#The smaller mean value is the thiner histogram (both cumulative and non-cumulative) we can observe.\n"
   ]
  },
  {
   "cell_type": "code",
   "execution_count": 190,
   "metadata": {},
   "outputs": [],
   "source": [
    "#Exercise 4\n",
    "Dictionary_beta = {\n",
    "    \"a1_b1_size10000\": np.random.beta(1,1,10000),\n",
    "    \"a1_b5_size10000\": np.random.beta(1,5,10000),  \n",
    "    \"a1_b10_size10000\": np.random.beta(1,10,10000), \n",
    "    \"a5_b10_size10000\": np.random.beta(5,10,10000), \n",
    "    \"a10_b10_size10000\": np.random.beta(10,10,10000), \n",
    "    \"a10_b5_size10000\": np.random.beta(10,5,10000), \n",
    "    \"a10_b1_size10000\": np.random.beta(10,1,10000), \n",
    "}"
   ]
  },
  {
   "cell_type": "code",
   "execution_count": 191,
   "metadata": {},
   "outputs": [
    {
     "data": {
      "text/html": [
       "<div>\n",
       "<style scoped>\n",
       "    .dataframe tbody tr th:only-of-type {\n",
       "        vertical-align: middle;\n",
       "    }\n",
       "\n",
       "    .dataframe tbody tr th {\n",
       "        vertical-align: top;\n",
       "    }\n",
       "\n",
       "    .dataframe thead th {\n",
       "        text-align: right;\n",
       "    }\n",
       "</style>\n",
       "<table border=\"1\" class=\"dataframe\">\n",
       "  <thead>\n",
       "    <tr style=\"text-align: right;\">\n",
       "      <th></th>\n",
       "      <th>a1_b1_size10000</th>\n",
       "      <th>a1_b5_size10000</th>\n",
       "      <th>a1_b10_size10000</th>\n",
       "      <th>a5_b10_size10000</th>\n",
       "      <th>a10_b10_size10000</th>\n",
       "      <th>a10_b5_size10000</th>\n",
       "      <th>a10_b1_size10000</th>\n",
       "    </tr>\n",
       "  </thead>\n",
       "  <tbody>\n",
       "    <tr>\n",
       "      <td>0</td>\n",
       "      <td>0.242013</td>\n",
       "      <td>0.040841</td>\n",
       "      <td>0.021422</td>\n",
       "      <td>0.441029</td>\n",
       "      <td>0.503933</td>\n",
       "      <td>0.684949</td>\n",
       "      <td>0.963317</td>\n",
       "    </tr>\n",
       "    <tr>\n",
       "      <td>1</td>\n",
       "      <td>0.226387</td>\n",
       "      <td>0.164111</td>\n",
       "      <td>0.032937</td>\n",
       "      <td>0.378493</td>\n",
       "      <td>0.241389</td>\n",
       "      <td>0.557059</td>\n",
       "      <td>0.609844</td>\n",
       "    </tr>\n",
       "    <tr>\n",
       "      <td>2</td>\n",
       "      <td>0.245249</td>\n",
       "      <td>0.102470</td>\n",
       "      <td>0.150119</td>\n",
       "      <td>0.419377</td>\n",
       "      <td>0.458028</td>\n",
       "      <td>0.575686</td>\n",
       "      <td>0.929576</td>\n",
       "    </tr>\n",
       "    <tr>\n",
       "      <td>3</td>\n",
       "      <td>0.047688</td>\n",
       "      <td>0.088899</td>\n",
       "      <td>0.038597</td>\n",
       "      <td>0.426781</td>\n",
       "      <td>0.599999</td>\n",
       "      <td>0.882341</td>\n",
       "      <td>0.798993</td>\n",
       "    </tr>\n",
       "    <tr>\n",
       "      <td>4</td>\n",
       "      <td>0.947457</td>\n",
       "      <td>0.268052</td>\n",
       "      <td>0.037459</td>\n",
       "      <td>0.258863</td>\n",
       "      <td>0.530074</td>\n",
       "      <td>0.732870</td>\n",
       "      <td>0.923836</td>\n",
       "    </tr>\n",
       "  </tbody>\n",
       "</table>\n",
       "</div>"
      ],
      "text/plain": [
       "   a1_b1_size10000  a1_b5_size10000  a1_b10_size10000  a5_b10_size10000  \\\n",
       "0         0.242013         0.040841          0.021422          0.441029   \n",
       "1         0.226387         0.164111          0.032937          0.378493   \n",
       "2         0.245249         0.102470          0.150119          0.419377   \n",
       "3         0.047688         0.088899          0.038597          0.426781   \n",
       "4         0.947457         0.268052          0.037459          0.258863   \n",
       "\n",
       "   a10_b10_size10000  a10_b5_size10000  a10_b1_size10000  \n",
       "0           0.503933          0.684949          0.963317  \n",
       "1           0.241389          0.557059          0.609844  \n",
       "2           0.458028          0.575686          0.929576  \n",
       "3           0.599999          0.882341          0.798993  \n",
       "4           0.530074          0.732870          0.923836  "
      ]
     },
     "execution_count": 191,
     "metadata": {},
     "output_type": "execute_result"
    }
   ],
   "source": [
    "Dataframe = pd.DataFrame.from_dict(Dictionary_beta)\n",
    "Dataframe.head()"
   ]
  },
  {
   "cell_type": "code",
   "execution_count": 192,
   "metadata": {},
   "outputs": [],
   "source": [
    "MtDataframe = Dataframe.melt()"
   ]
  },
  {
   "cell_type": "code",
   "execution_count": 193,
   "metadata": {},
   "outputs": [
    {
     "data": {
      "image/png": "[encoded data removed]",
      "text/plain": [
       "<Figure size 1512x216 with 7 Axes>"
      ]
     },
     "metadata": {
      "needs_background": "light"
     },
     "output_type": "display_data"
    }
   ],
   "source": [
    "g = sns.FacetGrid(MtDataframe,col = \"variable\", sharex=True)\n",
    "g = g.map(plt.hist,\"value\", cumulative = False, bins=40)"
   ]
  },
  {
   "cell_type": "code",
   "execution_count": 194,
   "metadata": {},
   "outputs": [
    {
     "data": {
      "image/png": "[encoded data removed]",
      "text/plain": [
       "<Figure size 1512x216 with 7 Axes>"
      ]
     },
     "metadata": {
      "needs_background": "light"
     },
     "output_type": "display_data"
    }
   ],
   "source": [
    "g = sns.FacetGrid(MtDataframe,col = \"variable\", sharex=True)\n",
    "g = g.map(plt.hist,\"value\", cumulative = True, bins=40)"
   ]
  },
  {
   "cell_type": "code",
   "execution_count": null,
   "metadata": {},
   "outputs": [],
   "source": [
    "#Summary - beta distribution\n",
    "#Beta distribution ranges always between 0 and 1\n",
    "#It is good distribution for probability calculations\n",
    "#The distirbution is very characteristic for both parameters equal to 1. Looking at the formula of this distribution we can imagine \"strenght\" of each parameter. Beta presses figure to left, while alpha presses it to right. "
   ]
  },
  {
   "cell_type": "code",
   "execution_count": 195,
   "metadata": {},
   "outputs": [
    {
     "data": {
      "text/html": [
       "<div>\n",
       "<style scoped>\n",
       "    .dataframe tbody tr th:only-of-type {\n",
       "        vertical-align: middle;\n",
       "    }\n",
       "\n",
       "    .dataframe tbody tr th {\n",
       "        vertical-align: top;\n",
       "    }\n",
       "\n",
       "    .dataframe thead th {\n",
       "        text-align: right;\n",
       "    }\n",
       "</style>\n",
       "<table border=\"1\" class=\"dataframe\">\n",
       "  <thead>\n",
       "    <tr style=\"text-align: right;\">\n",
       "      <th></th>\n",
       "      <th>M0_Sgm0.1_S10000</th>\n",
       "      <th>M1_Sgm0.1_S10000</th>\n",
       "      <th>M2_Sgm0.1_S10000</th>\n",
       "      <th>M2_Sgm0.2_S10000</th>\n",
       "      <th>M2_Sgm0.3_S10000</th>\n",
       "      <th>M2_Sgm0.4_S10000</th>\n",
       "      <th>M2_Sgm0.5_S10000</th>\n",
       "    </tr>\n",
       "  </thead>\n",
       "  <tbody>\n",
       "    <tr>\n",
       "      <td>0</td>\n",
       "      <td>1.039368</td>\n",
       "      <td>2.841720</td>\n",
       "      <td>7.193281</td>\n",
       "      <td>8.259923</td>\n",
       "      <td>9.397113</td>\n",
       "      <td>6.497098</td>\n",
       "      <td>2.693586</td>\n",
       "    </tr>\n",
       "    <tr>\n",
       "      <td>1</td>\n",
       "      <td>0.987392</td>\n",
       "      <td>2.534307</td>\n",
       "      <td>8.343709</td>\n",
       "      <td>7.832584</td>\n",
       "      <td>10.301829</td>\n",
       "      <td>13.057117</td>\n",
       "      <td>11.121176</td>\n",
       "    </tr>\n",
       "    <tr>\n",
       "      <td>2</td>\n",
       "      <td>1.046663</td>\n",
       "      <td>2.374604</td>\n",
       "      <td>6.204765</td>\n",
       "      <td>6.572051</td>\n",
       "      <td>5.947313</td>\n",
       "      <td>7.985773</td>\n",
       "      <td>9.877595</td>\n",
       "    </tr>\n",
       "    <tr>\n",
       "      <td>3</td>\n",
       "      <td>0.900288</td>\n",
       "      <td>2.977872</td>\n",
       "      <td>7.284058</td>\n",
       "      <td>6.391463</td>\n",
       "      <td>8.698770</td>\n",
       "      <td>8.555070</td>\n",
       "      <td>4.420521</td>\n",
       "    </tr>\n",
       "    <tr>\n",
       "      <td>4</td>\n",
       "      <td>0.776401</td>\n",
       "      <td>2.703749</td>\n",
       "      <td>7.990720</td>\n",
       "      <td>6.575446</td>\n",
       "      <td>10.182914</td>\n",
       "      <td>9.211724</td>\n",
       "      <td>8.469912</td>\n",
       "    </tr>\n",
       "  </tbody>\n",
       "</table>\n",
       "</div>"
      ],
      "text/plain": [
       "   M0_Sgm0.1_S10000  M1_Sgm0.1_S10000  M2_Sgm0.1_S10000  M2_Sgm0.2_S10000  \\\n",
       "0          1.039368          2.841720          7.193281          8.259923   \n",
       "1          0.987392          2.534307          8.343709          7.832584   \n",
       "2          1.046663          2.374604          6.204765          6.572051   \n",
       "3          0.900288          2.977872          7.284058          6.391463   \n",
       "4          0.776401          2.703749          7.990720          6.575446   \n",
       "\n",
       "   M2_Sgm0.3_S10000  M2_Sgm0.4_S10000  M2_Sgm0.5_S10000  \n",
       "0          9.397113          6.497098          2.693586  \n",
       "1         10.301829         13.057117         11.121176  \n",
       "2          5.947313          7.985773          9.877595  \n",
       "3          8.698770          8.555070          4.420521  \n",
       "4         10.182914          9.211724          8.469912  "
      ]
     },
     "execution_count": 195,
     "metadata": {},
     "output_type": "execute_result"
    }
   ],
   "source": [
    "#Exercise 5\n",
    "Dictionary_lognorm = {\n",
    "    \"M0_Sgm0.1_S10000\":np.random.lognormal(mean = 0,sigma = 0.1, size = 10000),\n",
    "    \"M1_Sgm0.1_S10000\":np.random.lognormal(mean = 1, sigma = 0.1, size = 10000),\n",
    "    \"M2_Sgm0.1_S10000\":np.random.lognormal(mean = 2, sigma = 0.1, size = 10000),\n",
    "    \"M2_Sgm0.2_S10000\":np.random.lognormal(mean = 2, sigma = 0.2, size = 10000),\n",
    "    \"M2_Sgm0.3_S10000\":np.random.lognormal(mean = 2, sigma = 0.3, size = 10000),\n",
    "    \"M2_Sgm0.4_S10000\":np.random.lognormal(mean = 2, sigma = 0.4, size = 10000),\n",
    "    \"M2_Sgm0.5_S10000\":np.random.lognormal(mean = 2, sigma = 0.5, size = 10000),\n",
    "\n",
    "}\n",
    "Dataframe = pd.DataFrame.from_dict(Dictionary_lognorm)\n",
    "Dataframe.head()"
   ]
  },
  {
   "cell_type": "code",
   "execution_count": 196,
   "metadata": {},
   "outputs": [
    {
     "data": {
      "image/png": "[encoded data removed]",
      "text/plain": [
       "<Figure size 1512x216 with 7 Axes>"
      ]
     },
     "metadata": {
      "needs_background": "light"
     },
     "output_type": "display_data"
    }
   ],
   "source": [
    "MtDataframe = Dataframe.melt()\n",
    "g = sns.FacetGrid(MtDataframe,col = \"variable\", sharex=True)\n",
    "g = g.map(plt.hist,\"value\", cumulative = False, bins=80)"
   ]
  },
  {
   "cell_type": "code",
   "execution_count": 197,
   "metadata": {},
   "outputs": [
    {
     "data": {
      "image/png": "[encoded data removed]",
      "text/plain": [
       "<Figure size 1512x216 with 7 Axes>"
      ]
     },
     "metadata": {
      "needs_background": "light"
     },
     "output_type": "display_data"
    }
   ],
   "source": [
    "g = sns.FacetGrid(MtDataframe,col = \"variable\", sharex=True)\n",
    "g = g.map(plt.hist,\"value\", cumulative = True, bins=80)"
   ]
  },
  {
   "cell_type": "code",
   "execution_count": null,
   "metadata": {},
   "outputs": [],
   "source": [
    "#Summary - lognormal distribution\n",
    "#Lognormal distribution is the result of converting normal distribution using logarithmic mathematics\n",
    "#Augmenting variance grosses the distribution width and height\n",
    "#Base of log calculated is e = 2.718 but it can be changed depending on user"
   ]
  }
 ],
 "metadata": {
  "kernelspec": {
   "display_name": "Python 3",
   "language": "python",
   "name": "python3"
  },
  "language_info": {
   "codemirror_mode": {
    "name": "ipython",
    "version": 3
   },
   "file_extension": ".py",
   "mimetype": "text/x-python",
   "name": "python",
   "nbconvert_exporter": "python",
   "pygments_lexer": "ipython3",
   "version": "3.7.4"
  }
 },
 "nbformat": 4,
 "nbformat_minor": 2
}
